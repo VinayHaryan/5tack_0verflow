{
  "nbformat": 4,
  "nbformat_minor": 0,
  "metadata": {
    "colab": {
      "name": "5tack0verflow.ipynb",
      "provenance": [],
      "collapsed_sections": []
    },
    "kernelspec": {
      "display_name": "Python 3",
      "name": "python3"
    }
  },
  "cells": [
    {
      "cell_type": "code",
      "metadata": {
        "colab": {
          "base_uri": "https://localhost:8080/"
        },
        "id": "P2xioxF2R9Fm",
        "outputId": "2e02f1e6-a45c-4d3a-d952-d88652ae2115"
      },
      "source": [
        "from google.colab import drive\n",
        "drive.mount('/gdrive')"
      ],
      "execution_count": null,
      "outputs": [
        {
          "output_type": "stream",
          "text": [
            "Mounted at /gdrive\n"
          ],
          "name": "stdout"
        }
      ]
    },
    {
      "cell_type": "code",
      "metadata": {
        "colab": {
          "base_uri": "https://localhost:8080/"
        },
        "id": "vQfbeCAlR9Fm",
        "outputId": "68fe59ac-90a4-4b30-f4a9-210c4fec6261"
      },
      "source": [
        "with open('/gdrive/My Drive/foo.txt', 'w') as f:\n",
        "  f.write('Hello Google Drive!')\n",
        "!cat '/gdrive/My Drive/foo.txt'"
      ],
      "execution_count": null,
      "outputs": [
        {
          "output_type": "stream",
          "text": [
            "Hello Google Drive!"
          ],
          "name": "stdout"
        }
      ]
    },
    {
      "cell_type": "code",
      "metadata": {
        "colab": {
          "base_uri": "https://localhost:8080/"
        },
        "id": "3A6KXIt_R-eN",
        "outputId": "0588a5ec-deea-44e2-ab9d-a2cf7eff055c"
      },
      "source": [
        "cd /gdrive"
      ],
      "execution_count": null,
      "outputs": [
        {
          "output_type": "stream",
          "text": [
            "/gdrive\n"
          ],
          "name": "stdout"
        }
      ]
    },
    {
      "cell_type": "code",
      "metadata": {
        "colab": {
          "base_uri": "https://localhost:8080/"
        },
        "id": "v1qjirYTSBTF",
        "outputId": "09e0d3ab-9827-49f1-dbdd-44b10f2e8b5d"
      },
      "source": [
        "cd \\My Drive"
      ],
      "execution_count": null,
      "outputs": [
        {
          "output_type": "stream",
          "text": [
            "/gdrive/My Drive\n"
          ],
          "name": "stdout"
        }
      ]
    },
    {
      "cell_type": "code",
      "metadata": {
        "colab": {
          "base_uri": "https://localhost:8080/"
        },
        "id": "T7Jq2relSDB-",
        "outputId": "6e0c2d1c-bdfd-480e-fa68-1433869bab21"
      },
      "source": [
        "cd \\Project 1"
      ],
      "execution_count": null,
      "outputs": [
        {
          "output_type": "stream",
          "text": [
            "/gdrive/My Drive/Project 1\n"
          ],
          "name": "stdout"
        }
      ]
    },
    {
      "cell_type": "code",
      "metadata": {
        "colab": {
          "base_uri": "https://localhost:8080/"
        },
        "id": "UGiMapvsSLwA",
        "outputId": "f443b333-e381-4841-cbf9-c370ce57062c"
      },
      "source": [
        "ls"
      ],
      "execution_count": null,
      "outputs": [
        {
          "output_type": "stream",
          "text": [
            "\u001b[0m\u001b[01;34m'Multiclass Multilabel prediction For stack overflow Questions'\u001b[0m/\n"
          ],
          "name": "stdout"
        }
      ]
    },
    {
      "cell_type": "code",
      "metadata": {
        "colab": {
          "base_uri": "https://localhost:8080/"
        },
        "id": "kVZ8FSOaSQlK",
        "outputId": "38867ab2-07f2-457b-c543-ee6a00c9570c"
      },
      "source": [
        "cd \\Multiclass Multilabel prediction For stack overflow Questions"
      ],
      "execution_count": null,
      "outputs": [
        {
          "output_type": "stream",
          "text": [
            "/gdrive/My Drive/Project 1/Multiclass Multilabel prediction For stack overflow Questions\n"
          ],
          "name": "stdout"
        }
      ]
    },
    {
      "cell_type": "code",
      "metadata": {
        "id": "9OTWiL8TSZmw"
      },
      "source": [
        "# ls"
      ],
      "execution_count": null,
      "outputs": []
    },
    {
      "cell_type": "code",
      "metadata": {
        "id": "ESvBNx7KSaeC"
      },
      "source": [
        "\n",
        "%tensorflow_version 2.x"
      ],
      "execution_count": null,
      "outputs": []
    },
    {
      "cell_type": "code",
      "metadata": {
        "id": "D5OMzA3aSgb-"
      },
      "source": [
        "import numpy as np\n",
        "import pandas as pd\n",
        "import warnings\n",
        "warnings.filterwarnings('ignore')"
      ],
      "execution_count": null,
      "outputs": []
    },
    {
      "cell_type": "code",
      "metadata": {
        "id": "MZg1a3uDSxAw"
      },
      "source": [
        "questians = r'Questions.csv'\n",
        "#answers = r'Answers.csv'\n",
        "tags = r'Tags.csv'"
      ],
      "execution_count": null,
      "outputs": []
    },
    {
      "cell_type": "code",
      "metadata": {
        "colab": {
          "base_uri": "https://localhost:8080/",
          "height": 69
        },
        "id": "QwGDAbdnTNWn",
        "outputId": "46330356-4ab4-43c6-d0e8-c3a84913eef8"
      },
      "source": [
        "questions_data = pd.read_csv(questians, encoding='latin 1')\n",
        "#answers_data = pd.read_csv(answers, encoding='latin 1')\n",
        "tags_data = pd.read_csv(tags,encoding='latin 1')\n",
        "\n",
        "\"\"\" Latin-1 encodes just the first 256 code points of the unicode character set, whereas UTF-8 can be used to\"\n",
        "    encode all code points. at physical encoding level only codepoints 0-127 get encoded identically code point\n",
        "    128-255 differ by becomming 2-byte sequence with UTF-8 whereas they are single bytes with Latin-1\"\"\"\n"
      ],
      "execution_count": null,
      "outputs": [
        {
          "output_type": "execute_result",
          "data": {
            "application/vnd.google.colaboratory.intrinsic+json": {
              "type": "string"
            },
            "text/plain": [
              "' Latin-1 encodes just the first 256 code points of the unicode character set, whereas UTF-8 can be used to\"\\n    encode all code points. at physical encoding level only codepoints 0-127 get encoded identically code point\\n    128-255 differ by becomming 2-byte sequence with UTF-8 whereas they are single bytes with Latin-1'"
            ]
          },
          "metadata": {
            "tags": []
          },
          "execution_count": 12
        }
      ]
    },
    {
      "cell_type": "code",
      "metadata": {
        "id": "9RQ7xSbIUFlH"
      },
      "source": [
        "# questions_data.head()"
      ],
      "execution_count": null,
      "outputs": []
    },
    {
      "cell_type": "code",
      "metadata": {
        "id": "jrF1Ea1ZVY0g"
      },
      "source": [
        "# tags_data.head()"
      ],
      "execution_count": null,
      "outputs": []
    },
    {
      "cell_type": "code",
      "metadata": {
        "id": "tK0AUrirVeuQ"
      },
      "source": [
        "# answers_data.head()"
      ],
      "execution_count": null,
      "outputs": []
    },
    {
      "cell_type": "code",
      "metadata": {
        "id": "0YMKkqiqViKa"
      },
      "source": [
        "# grouping the tags\n",
        "grouped_tags = tags_data.groupby(\"Tag\", sort=\"count\").size().reset_index(name = 'count_number')"
      ],
      "execution_count": null,
      "outputs": []
    },
    {
      "cell_type": "code",
      "metadata": {
        "id": "hoccSWhsWQhJ"
      },
      "source": [
        "# grouped_tags"
      ],
      "execution_count": null,
      "outputs": []
    },
    {
      "cell_type": "code",
      "metadata": {
        "id": "Pvuq3QXiWatF"
      },
      "source": [
        "# take most common tags in the dataset\n",
        "num_classes = 10\n",
        "grouped_tags_1 = tags_data.groupby(\"Tag\").size().reset_index(name='count_number')\n",
        "top_10 = grouped_tags_1.nlargest(num_classes, columns='count_number')"
      ],
      "execution_count": null,
      "outputs": []
    },
    {
      "cell_type": "code",
      "metadata": {
        "colab": {
          "base_uri": "https://localhost:8080/",
          "height": 349
        },
        "id": "HayR6pvgXFQN",
        "outputId": "2981252f-8de3-4ffd-d306-9c78e7bdacaf"
      },
      "source": [
        "top_10\n"
      ],
      "execution_count": null,
      "outputs": [
        {
          "output_type": "execute_result",
          "data": {
            "text/html": [
              "<div>\n",
              "<style scoped>\n",
              "    .dataframe tbody tr th:only-of-type {\n",
              "        vertical-align: middle;\n",
              "    }\n",
              "\n",
              "    .dataframe tbody tr th {\n",
              "        vertical-align: top;\n",
              "    }\n",
              "\n",
              "    .dataframe thead th {\n",
              "        text-align: right;\n",
              "    }\n",
              "</style>\n",
              "<table border=\"1\" class=\"dataframe\">\n",
              "  <thead>\n",
              "    <tr style=\"text-align: right;\">\n",
              "      <th></th>\n",
              "      <th>Tag</th>\n",
              "      <th>count_number</th>\n",
              "    </tr>\n",
              "  </thead>\n",
              "  <tbody>\n",
              "    <tr>\n",
              "      <th>16121</th>\n",
              "      <td>javascript</td>\n",
              "      <td>124155</td>\n",
              "    </tr>\n",
              "    <tr>\n",
              "      <th>16020</th>\n",
              "      <td>java</td>\n",
              "      <td>115212</td>\n",
              "    </tr>\n",
              "    <tr>\n",
              "      <th>4301</th>\n",
              "      <td>c#</td>\n",
              "      <td>101186</td>\n",
              "    </tr>\n",
              "    <tr>\n",
              "      <th>24211</th>\n",
              "      <td>php</td>\n",
              "      <td>98808</td>\n",
              "    </tr>\n",
              "    <tr>\n",
              "      <th>979</th>\n",
              "      <td>android</td>\n",
              "      <td>90659</td>\n",
              "    </tr>\n",
              "    <tr>\n",
              "      <th>16611</th>\n",
              "      <td>jquery</td>\n",
              "      <td>78542</td>\n",
              "    </tr>\n",
              "    <tr>\n",
              "      <th>25712</th>\n",
              "      <td>python</td>\n",
              "      <td>64601</td>\n",
              "    </tr>\n",
              "    <tr>\n",
              "      <th>14180</th>\n",
              "      <td>html</td>\n",
              "      <td>58976</td>\n",
              "    </tr>\n",
              "    <tr>\n",
              "      <th>4311</th>\n",
              "      <td>c++</td>\n",
              "      <td>47591</td>\n",
              "    </tr>\n",
              "    <tr>\n",
              "      <th>15565</th>\n",
              "      <td>ios</td>\n",
              "      <td>47009</td>\n",
              "    </tr>\n",
              "  </tbody>\n",
              "</table>\n",
              "</div>"
            ],
            "text/plain": [
              "              Tag  count_number\n",
              "16121  javascript        124155\n",
              "16020        java        115212\n",
              "4301           c#        101186\n",
              "24211         php         98808\n",
              "979       android         90659\n",
              "16611      jquery         78542\n",
              "25712      python         64601\n",
              "14180        html         58976\n",
              "4311          c++         47591\n",
              "15565         ios         47009"
            ]
          },
          "metadata": {
            "tags": []
          },
          "execution_count": 19
        }
      ]
    },
    {
      "cell_type": "code",
      "metadata": {
        "id": "U3U0BdSYXILW"
      },
      "source": [
        "# Filtering the top 10 tags data\n",
        "\n",
        "tags_data.Tag = tags_data.Tag.apply(lambda tag : tag if tag in top_10.Tag.values else None)"
      ],
      "execution_count": null,
      "outputs": []
    },
    {
      "cell_type": "code",
      "metadata": {
        "colab": {
          "base_uri": "https://localhost:8080/",
          "height": 408
        },
        "id": "Ewm5XaunY8rg",
        "outputId": "66e5f7f9-0b09-4097-df7f-464bbb094138"
      },
      "source": [
        "tags_data"
      ],
      "execution_count": null,
      "outputs": [
        {
          "output_type": "execute_result",
          "data": {
            "text/html": [
              "<div>\n",
              "<style scoped>\n",
              "    .dataframe tbody tr th:only-of-type {\n",
              "        vertical-align: middle;\n",
              "    }\n",
              "\n",
              "    .dataframe tbody tr th {\n",
              "        vertical-align: top;\n",
              "    }\n",
              "\n",
              "    .dataframe thead th {\n",
              "        text-align: right;\n",
              "    }\n",
              "</style>\n",
              "<table border=\"1\" class=\"dataframe\">\n",
              "  <thead>\n",
              "    <tr style=\"text-align: right;\">\n",
              "      <th></th>\n",
              "      <th>Id</th>\n",
              "      <th>Tag</th>\n",
              "    </tr>\n",
              "  </thead>\n",
              "  <tbody>\n",
              "    <tr>\n",
              "      <th>0</th>\n",
              "      <td>80</td>\n",
              "      <td>None</td>\n",
              "    </tr>\n",
              "    <tr>\n",
              "      <th>1</th>\n",
              "      <td>80</td>\n",
              "      <td>None</td>\n",
              "    </tr>\n",
              "    <tr>\n",
              "      <th>2</th>\n",
              "      <td>80</td>\n",
              "      <td>None</td>\n",
              "    </tr>\n",
              "    <tr>\n",
              "      <th>3</th>\n",
              "      <td>90</td>\n",
              "      <td>None</td>\n",
              "    </tr>\n",
              "    <tr>\n",
              "      <th>4</th>\n",
              "      <td>90</td>\n",
              "      <td>None</td>\n",
              "    </tr>\n",
              "    <tr>\n",
              "      <th>...</th>\n",
              "      <td>...</td>\n",
              "      <td>...</td>\n",
              "    </tr>\n",
              "    <tr>\n",
              "      <th>3750989</th>\n",
              "      <td>40143360</td>\n",
              "      <td>javascript</td>\n",
              "    </tr>\n",
              "    <tr>\n",
              "      <th>3750990</th>\n",
              "      <td>40143360</td>\n",
              "      <td>None</td>\n",
              "    </tr>\n",
              "    <tr>\n",
              "      <th>3750991</th>\n",
              "      <td>40143380</td>\n",
              "      <td>None</td>\n",
              "    </tr>\n",
              "    <tr>\n",
              "      <th>3750992</th>\n",
              "      <td>40143380</td>\n",
              "      <td>None</td>\n",
              "    </tr>\n",
              "    <tr>\n",
              "      <th>3750993</th>\n",
              "      <td>40143380</td>\n",
              "      <td>None</td>\n",
              "    </tr>\n",
              "  </tbody>\n",
              "</table>\n",
              "<p>3750994 rows × 2 columns</p>\n",
              "</div>"
            ],
            "text/plain": [
              "               Id         Tag\n",
              "0              80        None\n",
              "1              80        None\n",
              "2              80        None\n",
              "3              90        None\n",
              "4              90        None\n",
              "...           ...         ...\n",
              "3750989  40143360  javascript\n",
              "3750990  40143360        None\n",
              "3750991  40143380        None\n",
              "3750992  40143380        None\n",
              "3750993  40143380        None\n",
              "\n",
              "[3750994 rows x 2 columns]"
            ]
          },
          "metadata": {
            "tags": []
          },
          "execution_count": 21
        }
      ]
    },
    {
      "cell_type": "code",
      "metadata": {
        "id": "_LvKIrjEZUDv"
      },
      "source": [
        "tags_data.dropna(inplace=True)"
      ],
      "execution_count": null,
      "outputs": []
    },
    {
      "cell_type": "code",
      "metadata": {
        "id": "w0ZoKgT4Z4mi"
      },
      "source": [
        "# tags_data"
      ],
      "execution_count": null,
      "outputs": []
    },
    {
      "cell_type": "code",
      "metadata": {
        "colab": {
          "base_uri": "https://localhost:8080/"
        },
        "id": "CHhp1UGcd7hr",
        "outputId": "e4159e6c-4b22-4d5d-f02e-36005b0223dd"
      },
      "source": [
        "!pip install -q wordcloud\n",
        "import nltk\n",
        "nltk.download('stopwords')\n",
        "nltk.download('wordnet')\n",
        "nltk.download('punkt')\n",
        "nltk.download('averaged_perceptron_tagger') "
      ],
      "execution_count": null,
      "outputs": [
        {
          "output_type": "stream",
          "text": [
            "[nltk_data] Downloading package stopwords to /root/nltk_data...\n",
            "[nltk_data]   Unzipping corpora/stopwords.zip.\n",
            "[nltk_data] Downloading package wordnet to /root/nltk_data...\n",
            "[nltk_data]   Unzipping corpora/wordnet.zip.\n",
            "[nltk_data] Downloading package punkt to /root/nltk_data...\n",
            "[nltk_data]   Unzipping tokenizers/punkt.zip.\n",
            "[nltk_data] Downloading package averaged_perceptron_tagger to\n",
            "[nltk_data]     /root/nltk_data...\n",
            "[nltk_data]   Unzipping taggers/averaged_perceptron_tagger.zip.\n"
          ],
          "name": "stdout"
        },
        {
          "output_type": "execute_result",
          "data": {
            "text/plain": [
              "True"
            ]
          },
          "metadata": {
            "tags": []
          },
          "execution_count": 24
        }
      ]
    },
    {
      "cell_type": "code",
      "metadata": {
        "id": "MDok70cVdtU_"
      },
      "source": [
        "import re\n",
        "import nltk\n",
        "import string\n",
        "from nltk.tokenize import word_tokenize\n",
        "from nltk.corpus import stopwords\n",
        "from nltk.stem.porter import PorterStemmer"
      ],
      "execution_count": null,
      "outputs": []
    },
    {
      "cell_type": "code",
      "metadata": {
        "colab": {
          "background_save": true
        },
        "id": "onEsPz_abOpO",
        "outputId": "3329bfa7-988d-489a-88c6-5648a6e37b43"
      },
      "source": [
        "def clean_text(df):\n",
        "    all_reviews = list()\n",
        "    lines = df[\"Body\"].values.tolist()\n",
        "    for text in lines:\n",
        "        text = text.lower()\n",
        "        \n",
        "        pattern = re.compile('http[s]?://(?:[a-zA-Z]|[0-9]|[$-_@.&+]|[!*\\(\\),]|(?:%[0-9a-fA-F][0-9a-fA-F]))+')\n",
        "        text = pattern.sub('', text)\n",
        "        \n",
        "        emoji = re.compile(\"[\"\n",
        "                           u\"\\U0001F600-\\U0001FFFF\"  # emoticons\n",
        "                           u\"\\U0001F300-\\U0001F5FF\"  # symbols & pictographs\n",
        "                           u\"\\U0001F680-\\U0001F6FF\"  # transport & map symbols\n",
        "                           u\"\\U0001F1E0-\\U0001F1FF\"  # flags (iOS)\n",
        "                           u\"\\U00002702-\\U000027B0\"\n",
        "                           u\"\\U000024C2-\\U0001F251\"\n",
        "                           \"]+\", flags=re.UNICODE)\n",
        "        text = emoji.sub(r'', text)\n",
        "        \n",
        "        text = re.sub(r\"i'm\", \"i am\", text)\n",
        "        text = re.sub(r\"he's\", \"he is\", text)\n",
        "        text = re.sub(r\"she's\", \"she is\", text)\n",
        "        text = re.sub(r\"that's\", \"that is\", text)        \n",
        "        text = re.sub(r\"what's\", \"what is\", text)\n",
        "        text = re.sub(r\"where's\", \"where is\", text) \n",
        "        text = re.sub(r\"\\'ll\", \" will\", text)  \n",
        "        text = re.sub(r\"\\'ve\", \" have\", text)  \n",
        "        text = re.sub(r\"\\'re\", \" are\", text)\n",
        "        text = re.sub(r\"\\'d\", \" would\", text)\n",
        "        text = re.sub(r\"\\'ve\", \" have\", text)\n",
        "        text = re.sub(r\"won't\", \"will not\", text)\n",
        "        text = re.sub(r\"don't\", \"do not\", text)\n",
        "        text = re.sub(r\"did't\", \"did not\", text)\n",
        "        text = re.sub(r\"can't\", \"can not\", text)\n",
        "        text = re.sub(r\"it's\", \"it is\", text)\n",
        "        text = re.sub(r\"couldn't\", \"could not\", text)\n",
        "        text = re.sub(r\"have't\", \"have not\", text)\n",
        "        \n",
        "        text = re.sub(r\"[,.\\\"!@#$%^&*(){}?/;`~:<>+=-]\", \"\", text)\n",
        "        tokens = word_tokenize(text)\n",
        "        table = str.maketrans('', '', string.punctuation)\n",
        "        stripped = [w.translate(table) for w in tokens]\n",
        "        words = [word for word in stripped if word.isalpha()]\n",
        "#         stop_words = set(stopwords.words(\"english\"))\n",
        "#         stop_words.discard(\"not\")\n",
        "#         words = [w for w in words if not w in stop_words]\n",
        "        words = ' '.join(words)\n",
        "        all_reviews.append(words)\n",
        "    return all_reviews\n",
        "\n",
        "all_reviews = clean_text(questions_data)\n",
        "all_reviews[0:20]"
      ],
      "execution_count": null,
      "outputs": [
        {
          "output_type": "execute_result",
          "data": {
            "text/plain": [
              "['pi have written a database generation script in a hrefsqla and want to execute it in my a hrefadobe aira applicationp precodecreate table trole roleid integer primary key rolename create table tfile fileid integer primary key filename filedescription thumbnailid integer fileformatid integer categoryid integer isfavorite boolean dateadded date globalaccesscount integer lastaccesstime date downloadcomplete boolean isnew boolean isspotlight boolean duration create table tcategory categoryid integer primary key categoryname parentcategoryid integer codepre pi execute this in adobe air using the following methodsp precodepublic static function runsqlfromfilefilenamestringvoid var filefile fileapplicationdirectoryresolvepathfilename var streamfilestream new filestream streamopenfile filemoderead var strsqlstring streamreadutfbytesstreambytesavailable nonquerystrsql public static function nonquerystrsqlstringvoid var sqlconnectionsqlconnection new sqlconnection sqlconnectionopenfileapplicationstoragedirectoryresolvepathdbpath var sqlstatementsqlstatement new sqlstatement sqlstatementtext strsql sqlstatementsqlconnection sqlconnection try sqlstatementexecute catch errorsqlerror alertshowerrortostring codepre pno errors are generated however only codetrolecode exists it seems that it only looks at the first query up to the semicolon if i remove it the query fails is there a way to call multiple queries in one statementp',\n",
              " 'pare there any really good tutorials explaining a href relnofollowbranching and merginga with apache subversion p pall the better if it is specific to tortoisesvn clientp',\n",
              " 'phas anyone got experience creating strongsqlbased aspnetstrong sitemap providersp pi have got the default xml file codewebsitemapcode working properly with my menu and strongsitemappathstrong controls but i will need a way for the users of my site to create and modify pages dynamicallyp pi need to tie page viewing permissions into the standard codeaspnetcode membership system as wellp',\n",
              " 'pthis is something i have pseudosolved many times and never quite found a solution that is stuck with me the problem is to come up with a way to generate codencode colors that are as distinguishable as possible where codencode is a parameterp',\n",
              " 'pi have a little game written in c it uses a database as backend it is a a hreftrading card gamea and i wanted to implement the function of the cards as a scriptp pwhat i mean is that i essentially have an interface codeicardcode which a card class implements codepublic class icardcode and which contains function that are called by the gamep pnow to make the thing maintainablemoddable i would like to have the class for each card as source code in the database and essentially compile it on first use so when i have to addchange a card i will just add it to the database and tell my application to refresh without needing any assembly deployment especially since we would be talking about assembly per card which means hundreds of assembliesp pis that possible register a class from a source file and then instantiate it etcp precodeicard cards current new cards current onenterplayref currentgamestate codepre pthe language is c but extra bonus if it is possible to write the script in any net languagep',\n",
              " 'pi am working on a collection of classes used for video playback and recording i have one main class which acts like the public interface with methods like codeplaycode codestopcode codepausecode coderecordcode etc then i have workhorse classes which do the video decoding and video encoding p pi just learned about the existence of nested classes in c and i am curious to know what programmers think about using them i am a little wary and not really sure what the benefitsdrawbacks are but they seem according to the book i am reading to be used in cases such as minep pthe book suggests that in a scenario like mine a good solution would be to nest the workhorse classes inside the interface class so there are no separate files for classes the client is not meant to use and to avoid any possible naming conflicts i do not know about these justifications nested classes are a new concept to me just want to see what programmers think about the issuep',\n",
              " 'pi have been writing a few web services for a net app now i am ready to consume them i have seen numerous examples where there is homegrown code for consuming the service as opposed to using the auto generated methods visual studio creates when adding the web reference p pis there some advantage to thisp',\n",
              " 'pi wonder how you guys manage deployment of a database between sql servers specifically sql server now there is a development and a live one as this should be part of a buildscript standard windows batch even do with current complexity of those scripts i might switch to powershell or so later enterprise managermanagement studio express do not countp pwould you just copy the mdf file and attach it i am always a bit careful when working with binary data as this seems to be a compatiblity issue even though development and live should run the same version of the server at all timep por given the lack of explain create table in tsql do you do something that exports an existing database into sqlscripts which you can run on the target server if yes is there a tool that can automatically dump a given database into sql queries and that runs off the command line again enterprise managermanagement studio express do not countp pand lastly given the fact that the live database already contains data the deployment may not involve creating all tables but rather checking the difference in structure and alter table the live ones instead which may also need data verificationconversion when existing fields changep pnow i hear a lot of great stuff about the a hrefred gatea products but for hobby projects the price is a bit steepp pso what are you using to automatically deploy sql server databases from test to livep',\n",
              " 'pi would like the version property of my application to be incremented for each build but i am not sure on how to enable this functionality in visual studio i have tried to specify the assemblyversion as but it does nt get me exactly what i want p pi am also using a settings file and in earlier attempts when the assembly version changed my settings got reset to the default since the application looked for the settings file in another directory p pi would like to be able to display a version number in the form of so when a user finds a problem i can log the version they are using as well as tell them to upgrade if they have an old releasep pa short explanation of how the versioning works would also be appreciated when does the build and revision number get incrementedp',\n",
              " 'pi am trying to maintain a setup project in codevisual studio yes it is a legacy application the problem we have at the moment is that we need to write registry entries to codehkcucode for every user on the computer they need to be in the codehkcucode rather than codehklmcode because they are the default user settings and they do change per user my feeling is thatp ol lithis is nt possibleli lithis is nt something the installer should be doing but something the application should be doing after all what happens when a user profile is created after the installli ol pwith that in mind i still want to change as little as possible in the application so my question is strongis it possible to add registry entries for every user in a codevisual studio setup projectstrong p pand at the moment the project lists five registry root keys codehkeyclassesroot hkeycurrentusercode codehkeylocalmachinecode codehkeyuserscode and usermachine hive i do not really know anything about the users root key and have nt seen usermachine hive can anyone enlighten me on what they are perhaps they could solve my problem abovep',\n",
              " 'pwhat is the simplest way to connect and query a database for a set of records in cp',\n",
              " 'pi need to grab the representation of the viewstate obviously this would not be available until fairly late in the request lifecycle which is okp pfor example if the output of the page includesp precodeltinput typehidden nameviewstate idviewstate gt codepre pi need a way on the server side to get the value pto clarify i need this value when the page is being rendered not on postback eg i need to know the viewstate value that is being emsentem to the client not the viewstate i am getting back from themp',\n",
              " 'pi am looking for a way to delete a file which is locked by another process using c i suspect the method must be able to find which process is locking the file perhaps by tracking the handles although i am not sure how to do this in c then close that process before being able to complete the file delete using codefiledeletecodep',\n",
              " 'pwhat is the correct way to get the process size on codesolaris hpuxcode and codeaixcode should we use codetopcode or codeps o vszcode or something elsep',\n",
              " 'pi am using ccnet on a sample project with svn as my source control ccnet is configured to create a build on every check in ccnet uses msbuild to build the source codep pi would like to use the latest revision number to generate assemblyinfocs while compiling how can i retrieve the latest revision from subversion and use the value in ccnetp pedit i am not using nant only msbuildp',\n",
              " 'pi am looking to allow users to control of subdomain of an app i am toying with much like basecamp where it is codecustomusernameseeworkcomcodep pwhat is required on the codednscode end to allow these to be created dynamically and be available instantly p pand how do you recommend dealing with this in the logic of the site codehtaccesscode rule to lookup the subdomain in the codedbcodep',\n",
              " 'pi am using msbuild to build my stuff i want to use cruisecontrolnet as by build serverp pnow ccnet refers nant a lot but it looks as if ccnet can do most of the stuff nant could do through the project configuration and msbuild also nant seems a bit unsupported with a beta release that is almost a year old nowp pin short i am actually quite happy with msbuild especially since it is the official compiler front end and a bit uncomfortable with nant but i do not want to judge prematurelyp pwhat would be reasons to use nant over msbuild especially with ccnet which seems to overlap a bit with nant in terms of features and adding the automated build related stuffp',\n",
              " 'pi am setting up a dedicated sql server box on windows server this week and would like to pare it down to be as barebones as possible while still being fully functionalp pto that end the server core option sounds appealing but i am not clear about whether or not i can run sql server on that sku several services are addressed on the a hrefmicrosoft websitea but i do not see any indication about sql serverp pdoes anyone know definitivelyp',\n",
              " 'pi always create a new empty database after that backup and restore of the existing database into it but is this really the best way as it seems very error prone and over complicated for mep',\n",
              " 'pif i am adding a column to a table in microsoft sql server can i control where the column is displayed logically in queriesp pi do not want to mess with the physical layout of columns on disk but i would like to logically group columns together when possible so that tools like sql server management studio list the contents of the table in a convenient wayp pi know that i can do this through sql management studio by going into their design mode for tables and dragging the order of columns around but i would like to be able to do it in raw sql so that i can perform the ordering scripted from the command linep']"
            ]
          },
          "metadata": {
            "tags": []
          },
          "execution_count": 0
        }
      ]
    },
    {
      "cell_type": "code",
      "metadata": {
        "colab": {
          "background_save": true
        },
        "id": "AEEe2enGfXcs",
        "outputId": "0321fe22-dabc-423c-e5d8-531aed53b0e9"
      },
      "source": [
        "def clean_text(df):\n",
        "    all_reviews1 = list()\n",
        "    lines = df[\"Title\"].values.tolist()\n",
        "    for text in lines:\n",
        "        text = text.lower()\n",
        "        \n",
        "        pattern = re.compile('http[s]?://(?:[a-zA-Z]|[0-9]|[$-_@.&+]|[!*\\(\\),]|(?:%[0-9a-fA-F][0-9a-fA-F]))+')\n",
        "        text = pattern.sub('', text)\n",
        "        \n",
        "        emoji = re.compile(\"[\"\n",
        "                           u\"\\U0001F600-\\U0001FFFF\"  # emoticons\n",
        "                           u\"\\U0001F300-\\U0001F5FF\"  # symbols & pictographs\n",
        "                           u\"\\U0001F680-\\U0001F6FF\"  # transport & map symbols\n",
        "                           u\"\\U0001F1E0-\\U0001F1FF\"  # flags (iOS)\n",
        "                           u\"\\U00002702-\\U000027B0\"\n",
        "                           u\"\\U000024C2-\\U0001F251\"\n",
        "                           \"]+\", flags=re.UNICODE)\n",
        "        text = emoji.sub(r'', text)\n",
        "        \n",
        "        text = re.sub(r\"i'm\", \"i am\", text)\n",
        "        text = re.sub(r\"he's\", \"he is\", text)\n",
        "        text = re.sub(r\"she's\", \"she is\", text)\n",
        "        text = re.sub(r\"that's\", \"that is\", text)        \n",
        "        text = re.sub(r\"what's\", \"what is\", text)\n",
        "        text = re.sub(r\"where's\", \"where is\", text) \n",
        "        text = re.sub(r\"\\'ll\", \" will\", text)  \n",
        "        text = re.sub(r\"\\'ve\", \" have\", text)  \n",
        "        text = re.sub(r\"\\'re\", \" are\", text)\n",
        "        text = re.sub(r\"\\'d\", \" would\", text)\n",
        "        text = re.sub(r\"\\'ve\", \" have\", text)\n",
        "        text = re.sub(r\"won't\", \"will not\", text)\n",
        "        text = re.sub(r\"don't\", \"do not\", text)\n",
        "        text = re.sub(r\"did't\", \"did not\", text)\n",
        "        text = re.sub(r\"can't\", \"can not\", text)\n",
        "        text = re.sub(r\"it's\", \"it is\", text)\n",
        "        text = re.sub(r\"couldn't\", \"could not\", text)\n",
        "        text = re.sub(r\"have't\", \"have not\", text)\n",
        "        \n",
        "        text = re.sub(r\"[,.\\\"!@$%^&*(){}?/;`~:<>+=-]\", \"\", text)\n",
        "        tokens = word_tokenize(text)\n",
        "        table = str.maketrans('', '', string.punctuation)\n",
        "        stripped = [w.translate(table) for w in tokens]\n",
        "        words = [word for word in stripped if word.isalpha()]\n",
        "#         stop_words = set(stopwords.words(\"english\"))\n",
        "#         stop_words.discard(\"not\")\n",
        "#         words = [w for w in words if not w in stop_words]\n",
        "        words = ' '.join(words)\n",
        "        all_reviews1.append(words)\n",
        "    return all_reviews1\n",
        "\n",
        "all_reviews1 = clean_text(questions_data)\n",
        "all_reviews1[0:20]"
      ],
      "execution_count": null,
      "outputs": [
        {
          "output_type": "execute_result",
          "data": {
            "text/plain": [
              "['sqlstatementexecute multiple queries in one statement',\n",
              " 'good branching and merging tutorials for tortoisesvn',\n",
              " 'aspnet site maps',\n",
              " 'function for creating color wheels',\n",
              " 'adding scripting functionality to net applications',\n",
              " 'should i use nested classes in this case',\n",
              " 'homegrown consumption of web services',\n",
              " 'deploying sql server databases from test to live',\n",
              " 'automatically update version number',\n",
              " 'visual studio setup project per user registry settings',\n",
              " 'how do i connect to a database and loop over a recordset in c',\n",
              " 'how to get the value of built encoded viewstate',\n",
              " 'how do i delete a file which is locked by another process in c',\n",
              " 'process size on unix',\n",
              " 'use svn revision to label build in ccnet',\n",
              " 'how to make subdomain user accounts in a webapp',\n",
              " 'is nant still supported and suitable for net',\n",
              " 'is windows server server core appropriate for a sql server instance',\n",
              " 'what is the best way to copy a database',\n",
              " 'can i logically reorder columns in a table']"
            ]
          },
          "metadata": {
            "tags": []
          },
          "execution_count": 0
        }
      ]
    },
    {
      "cell_type": "code",
      "metadata": {
        "colab": {
          "background_save": true
        },
        "id": "o1Qore8laGe5"
      },
      "source": [
        "str1 = all_reviews1\n",
        "str2 = all_reviews\n",
        "Text = str1  + str2\n"
      ],
      "execution_count": null,
      "outputs": []
    },
    {
      "cell_type": "code",
      "metadata": {
        "id": "GjCiJ349cW5o"
      },
      "source": [
        "# Text"
      ],
      "execution_count": null,
      "outputs": []
    },
    {
      "cell_type": "code",
      "metadata": {
        "colab": {
          "background_save": true
        },
        "id": "pKwl_AgMm3Xl"
      },
      "source": [
        "questions_data['Text_title'] = str1"
      ],
      "execution_count": null,
      "outputs": []
    },
    {
      "cell_type": "code",
      "metadata": {
        "colab": {
          "background_save": true
        },
        "id": "UmbqTQw4z0ji"
      },
      "source": [
        "questions_data['Text_body'] = str2"
      ],
      "execution_count": null,
      "outputs": []
    },
    {
      "cell_type": "code",
      "metadata": {
        "colab": {
          "background_save": true
        },
        "id": "7uBXf2ii02bN"
      },
      "source": [
        "# questions_data.drop([\"Text\"], axis = 1, inplace = True) \n"
      ],
      "execution_count": null,
      "outputs": []
    },
    {
      "cell_type": "code",
      "metadata": {
        "colab": {
          "background_save": true
        },
        "id": "gVmS-x9q0TDS"
      },
      "source": [
        "# questions_data.head()"
      ],
      "execution_count": null,
      "outputs": []
    },
    {
      "cell_type": "code",
      "metadata": {
        "colab": {
          "background_save": true
        },
        "id": "AClBNPfw0a0b",
        "outputId": "f6882bd6-dcd5-4d81-d3de-ba81170f7cf4"
      },
      "source": [
        "questions_data.shape"
      ],
      "execution_count": null,
      "outputs": [
        {
          "output_type": "execute_result",
          "data": {
            "text/plain": [
              "(1264216, 9)"
            ]
          },
          "metadata": {
            "tags": []
          },
          "execution_count": 0
        }
      ]
    },
    {
      "cell_type": "code",
      "metadata": {
        "colab": {
          "background_save": true
        },
        "id": "sSswgV3d21cM"
      },
      "source": [
        "# tags_data.shape"
      ],
      "execution_count": null,
      "outputs": []
    },
    {
      "cell_type": "code",
      "metadata": {
        "colab": {
          "background_save": true
        },
        "id": "9jqwKoxT3Gez"
      },
      "source": [
        "# tags_data.head()"
      ],
      "execution_count": null,
      "outputs": []
    },
    {
      "cell_type": "code",
      "metadata": {
        "colab": {
          "background_save": true
        },
        "id": "xXaI-Tlt3OsY",
        "outputId": "8768ab99-5dfc-4b64-8a05-67a3141781d8"
      },
      "source": [
        "tags_data.sort_values('Id')\n",
        "#Pandas sort_vlaues() function sorts a data frame in Ascending or Desccending order of passed column"
      ],
      "execution_count": null,
      "outputs": [
        {
          "output_type": "execute_result",
          "data": {
            "text/html": [
              "<div>\n",
              "<style scoped>\n",
              "    .dataframe tbody tr th:only-of-type {\n",
              "        vertical-align: middle;\n",
              "    }\n",
              "\n",
              "    .dataframe tbody tr th {\n",
              "        vertical-align: top;\n",
              "    }\n",
              "\n",
              "    .dataframe thead th {\n",
              "        text-align: right;\n",
              "    }\n",
              "</style>\n",
              "<table border=\"1\" class=\"dataframe\">\n",
              "  <thead>\n",
              "    <tr style=\"text-align: right;\">\n",
              "      <th></th>\n",
              "      <th>Id</th>\n",
              "      <th>Tag</th>\n",
              "    </tr>\n",
              "  </thead>\n",
              "  <tbody>\n",
              "    <tr>\n",
              "      <th>14</th>\n",
              "      <td>260</td>\n",
              "      <td>c#</td>\n",
              "    </tr>\n",
              "    <tr>\n",
              "      <th>18</th>\n",
              "      <td>330</td>\n",
              "      <td>c++</td>\n",
              "    </tr>\n",
              "    <tr>\n",
              "      <th>28</th>\n",
              "      <td>650</td>\n",
              "      <td>c#</td>\n",
              "    </tr>\n",
              "    <tr>\n",
              "      <th>35</th>\n",
              "      <td>930</td>\n",
              "      <td>c#</td>\n",
              "    </tr>\n",
              "    <tr>\n",
              "      <th>39</th>\n",
              "      <td>1010</td>\n",
              "      <td>c#</td>\n",
              "    </tr>\n",
              "    <tr>\n",
              "      <th>...</th>\n",
              "      <td>...</td>\n",
              "      <td>...</td>\n",
              "    </tr>\n",
              "    <tr>\n",
              "      <th>3750974</th>\n",
              "      <td>40143150</td>\n",
              "      <td>javascript</td>\n",
              "    </tr>\n",
              "    <tr>\n",
              "      <th>3750981</th>\n",
              "      <td>40143190</td>\n",
              "      <td>python</td>\n",
              "    </tr>\n",
              "    <tr>\n",
              "      <th>3750984</th>\n",
              "      <td>40143210</td>\n",
              "      <td>php</td>\n",
              "    </tr>\n",
              "    <tr>\n",
              "      <th>3750987</th>\n",
              "      <td>40143340</td>\n",
              "      <td>android</td>\n",
              "    </tr>\n",
              "    <tr>\n",
              "      <th>3750989</th>\n",
              "      <td>40143360</td>\n",
              "      <td>javascript</td>\n",
              "    </tr>\n",
              "  </tbody>\n",
              "</table>\n",
              "<p>826739 rows × 2 columns</p>\n",
              "</div>"
            ],
            "text/plain": [
              "               Id         Tag\n",
              "14            260          c#\n",
              "18            330         c++\n",
              "28            650          c#\n",
              "35            930          c#\n",
              "39           1010          c#\n",
              "...           ...         ...\n",
              "3750974  40143150  javascript\n",
              "3750981  40143190      python\n",
              "3750984  40143210         php\n",
              "3750987  40143340     android\n",
              "3750989  40143360  javascript\n",
              "\n",
              "[826739 rows x 2 columns]"
            ]
          },
          "metadata": {
            "tags": []
          },
          "execution_count": 0
        }
      ]
    },
    {
      "cell_type": "code",
      "metadata": {
        "colab": {
          "background_save": true
        },
        "id": "Gy69HtQP3aoX"
      },
      "source": [
        "# tags_data.nunique()"
      ],
      "execution_count": null,
      "outputs": []
    },
    {
      "cell_type": "code",
      "metadata": {
        "colab": {
          "background_save": true
        },
        "id": "Q7pQ0-8Z4VPF"
      },
      "source": [
        "tag_ids = list(tags_data['Id'])"
      ],
      "execution_count": null,
      "outputs": []
    },
    {
      "cell_type": "code",
      "metadata": {
        "colab": {
          "background_save": true
        },
        "id": "nyUILJ_y4fdL"
      },
      "source": [
        "# tag_ids"
      ],
      "execution_count": null,
      "outputs": []
    },
    {
      "cell_type": "code",
      "metadata": {
        "colab": {
          "background_save": true
        },
        "id": "UpcoUTOj4mIE"
      },
      "source": [
        "  questiond_data_top_10 = questions_data[questions_data['Id'].isin(tag_ids)]\n",
        "  # questiond_data_top_10"
      ],
      "execution_count": null,
      "outputs": []
    },
    {
      "cell_type": "code",
      "metadata": {
        "colab": {
          "background_save": true
        },
        "id": "wXAEWx2g5E2s"
      },
      "source": [
        "#merging the data\n",
        "questions_data_top_10 = questiond_data_top_10.merge(tags_data)\n",
        "# questions_data_top_10"
      ],
      "execution_count": null,
      "outputs": []
    },
    {
      "cell_type": "code",
      "metadata": {
        "colab": {
          "background_save": true
        },
        "id": "ItJuBiTc5dNk"
      },
      "source": [
        "#dropping unwanted columns\n",
        "questions_data_top_10.drop(['OwnerUserId','CreationDate','ClosedDate','Score','Title','Body'],axis=1,inplace=True)"
      ],
      "execution_count": null,
      "outputs": []
    },
    {
      "cell_type": "code",
      "metadata": {
        "colab": {
          "background_save": true
        },
        "id": "Dh64awpz5p0K",
        "outputId": "6e90ef8e-388f-4bc1-c3b7-a047e7b4d3fc"
      },
      "source": [
        "questions_data_top_10"
      ],
      "execution_count": null,
      "outputs": [
        {
          "output_type": "execute_result",
          "data": {
            "text/html": [
              "<div>\n",
              "<style scoped>\n",
              "    .dataframe tbody tr th:only-of-type {\n",
              "        vertical-align: middle;\n",
              "    }\n",
              "\n",
              "    .dataframe tbody tr th {\n",
              "        vertical-align: top;\n",
              "    }\n",
              "\n",
              "    .dataframe thead th {\n",
              "        text-align: right;\n",
              "    }\n",
              "</style>\n",
              "<table border=\"1\" class=\"dataframe\">\n",
              "  <thead>\n",
              "    <tr style=\"text-align: right;\">\n",
              "      <th></th>\n",
              "      <th>Id</th>\n",
              "      <th>Text_title</th>\n",
              "      <th>Text_body</th>\n",
              "      <th>Tag</th>\n",
              "    </tr>\n",
              "  </thead>\n",
              "  <tbody>\n",
              "    <tr>\n",
              "      <th>0</th>\n",
              "      <td>260</td>\n",
              "      <td>adding scripting functionality to net applicat...</td>\n",
              "      <td>pi have a little game written in c it uses a d...</td>\n",
              "      <td>c#</td>\n",
              "    </tr>\n",
              "    <tr>\n",
              "      <th>1</th>\n",
              "      <td>330</td>\n",
              "      <td>should i use nested classes in this case</td>\n",
              "      <td>pi am working on a collection of classes used ...</td>\n",
              "      <td>c++</td>\n",
              "    </tr>\n",
              "    <tr>\n",
              "      <th>2</th>\n",
              "      <td>650</td>\n",
              "      <td>automatically update version number</td>\n",
              "      <td>pi would like the version property of my appli...</td>\n",
              "      <td>c#</td>\n",
              "    </tr>\n",
              "    <tr>\n",
              "      <th>3</th>\n",
              "      <td>930</td>\n",
              "      <td>how do i connect to a database and loop over a...</td>\n",
              "      <td>pwhat is the simplest way to connect and query...</td>\n",
              "      <td>c#</td>\n",
              "    </tr>\n",
              "    <tr>\n",
              "      <th>4</th>\n",
              "      <td>1010</td>\n",
              "      <td>how to get the value of built encoded viewstate</td>\n",
              "      <td>pi need to grab the representation of the view...</td>\n",
              "      <td>c#</td>\n",
              "    </tr>\n",
              "    <tr>\n",
              "      <th>...</th>\n",
              "      <td>...</td>\n",
              "      <td>...</td>\n",
              "      <td>...</td>\n",
              "      <td>...</td>\n",
              "    </tr>\n",
              "    <tr>\n",
              "      <th>826734</th>\n",
              "      <td>40143150</td>\n",
              "      <td>youtube iframe api no ready call no error call</td>\n",
              "      <td>pi am trying to detect the flash out of date e...</td>\n",
              "      <td>javascript</td>\n",
              "    </tr>\n",
              "    <tr>\n",
              "      <th>826735</th>\n",
              "      <td>40143190</td>\n",
              "      <td>how to execute multiline python code from a ba...</td>\n",
              "      <td>pi need to extend a shell script bash as i am ...</td>\n",
              "      <td>python</td>\n",
              "    </tr>\n",
              "    <tr>\n",
              "      <th>826736</th>\n",
              "      <td>40143210</td>\n",
              "      <td>url routing in php mvc</td>\n",
              "      <td>pi am building a custom mvc project and i have...</td>\n",
              "      <td>php</td>\n",
              "    </tr>\n",
              "    <tr>\n",
              "      <th>826737</th>\n",
              "      <td>40143340</td>\n",
              "      <td>obfuscating code in android studio</td>\n",
              "      <td>punder minifyenabled i changed from false to t...</td>\n",
              "      <td>android</td>\n",
              "    </tr>\n",
              "    <tr>\n",
              "      <th>826738</th>\n",
              "      <td>40143360</td>\n",
              "      <td>how to fire function after vmodel change</td>\n",
              "      <td>pi have input which i use to filter my array o...</td>\n",
              "      <td>javascript</td>\n",
              "    </tr>\n",
              "  </tbody>\n",
              "</table>\n",
              "<p>826739 rows × 4 columns</p>\n",
              "</div>"
            ],
            "text/plain": [
              "              Id  ...         Tag\n",
              "0            260  ...          c#\n",
              "1            330  ...         c++\n",
              "2            650  ...          c#\n",
              "3            930  ...          c#\n",
              "4           1010  ...          c#\n",
              "...          ...  ...         ...\n",
              "826734  40143150  ...  javascript\n",
              "826735  40143190  ...      python\n",
              "826736  40143210  ...         php\n",
              "826737  40143340  ...     android\n",
              "826738  40143360  ...  javascript\n",
              "\n",
              "[826739 rows x 4 columns]"
            ]
          },
          "metadata": {
            "tags": []
          },
          "execution_count": 0
        }
      ]
    },
    {
      "cell_type": "code",
      "metadata": {
        "id": "OyqGP0cq5vfP"
      },
      "source": [
        "questions_data_top_10['Text'] = questions_data_top_10['Text_title'].str.cat(questions_data_top_10['Text_body'], sep =\" \") "
      ],
      "execution_count": 44,
      "outputs": []
    },
    {
      "cell_type": "code",
      "metadata": {
        "id": "xZvAg6FV6972"
      },
      "source": [
        "#dropping unwanted columns\n",
        "questions_data_top_10.drop(['Text_title','Text_body'],axis=1,inplace=True)"
      ],
      "execution_count": 45,
      "outputs": []
    },
    {
      "cell_type": "code",
      "metadata": {
        "id": "x8Qku4b_7Bbz",
        "colab": {
          "base_uri": "https://localhost:8080/",
          "height": 408
        },
        "outputId": "308e4870-3a5b-403f-b4ee-b0de3ae0205a"
      },
      "source": [
        "questions_data_top_10"
      ],
      "execution_count": 46,
      "outputs": [
        {
          "output_type": "execute_result",
          "data": {
            "text/html": [
              "<div>\n",
              "<style scoped>\n",
              "    .dataframe tbody tr th:only-of-type {\n",
              "        vertical-align: middle;\n",
              "    }\n",
              "\n",
              "    .dataframe tbody tr th {\n",
              "        vertical-align: top;\n",
              "    }\n",
              "\n",
              "    .dataframe thead th {\n",
              "        text-align: right;\n",
              "    }\n",
              "</style>\n",
              "<table border=\"1\" class=\"dataframe\">\n",
              "  <thead>\n",
              "    <tr style=\"text-align: right;\">\n",
              "      <th></th>\n",
              "      <th>Id</th>\n",
              "      <th>Tag</th>\n",
              "      <th>Text</th>\n",
              "    </tr>\n",
              "  </thead>\n",
              "  <tbody>\n",
              "    <tr>\n",
              "      <th>0</th>\n",
              "      <td>260</td>\n",
              "      <td>c#</td>\n",
              "      <td>adding scripting functionality to net applicat...</td>\n",
              "    </tr>\n",
              "    <tr>\n",
              "      <th>1</th>\n",
              "      <td>330</td>\n",
              "      <td>c++</td>\n",
              "      <td>should i use nested classes in this case pi am...</td>\n",
              "    </tr>\n",
              "    <tr>\n",
              "      <th>2</th>\n",
              "      <td>650</td>\n",
              "      <td>c#</td>\n",
              "      <td>automatically update version number pi would l...</td>\n",
              "    </tr>\n",
              "    <tr>\n",
              "      <th>3</th>\n",
              "      <td>930</td>\n",
              "      <td>c#</td>\n",
              "      <td>how do i connect to a database and loop over a...</td>\n",
              "    </tr>\n",
              "    <tr>\n",
              "      <th>4</th>\n",
              "      <td>1010</td>\n",
              "      <td>c#</td>\n",
              "      <td>how to get the value of built encoded viewstat...</td>\n",
              "    </tr>\n",
              "    <tr>\n",
              "      <th>...</th>\n",
              "      <td>...</td>\n",
              "      <td>...</td>\n",
              "      <td>...</td>\n",
              "    </tr>\n",
              "    <tr>\n",
              "      <th>826734</th>\n",
              "      <td>40143150</td>\n",
              "      <td>javascript</td>\n",
              "      <td>youtube iframe api no ready call no error call...</td>\n",
              "    </tr>\n",
              "    <tr>\n",
              "      <th>826735</th>\n",
              "      <td>40143190</td>\n",
              "      <td>python</td>\n",
              "      <td>how to execute multiline python code from a ba...</td>\n",
              "    </tr>\n",
              "    <tr>\n",
              "      <th>826736</th>\n",
              "      <td>40143210</td>\n",
              "      <td>php</td>\n",
              "      <td>url routing in php mvc pi am building a custom...</td>\n",
              "    </tr>\n",
              "    <tr>\n",
              "      <th>826737</th>\n",
              "      <td>40143340</td>\n",
              "      <td>android</td>\n",
              "      <td>obfuscating code in android studio punder mini...</td>\n",
              "    </tr>\n",
              "    <tr>\n",
              "      <th>826738</th>\n",
              "      <td>40143360</td>\n",
              "      <td>javascript</td>\n",
              "      <td>how to fire function after vmodel change pi ha...</td>\n",
              "    </tr>\n",
              "  </tbody>\n",
              "</table>\n",
              "<p>826739 rows × 3 columns</p>\n",
              "</div>"
            ],
            "text/plain": [
              "              Id         Tag                                               Text\n",
              "0            260          c#  adding scripting functionality to net applicat...\n",
              "1            330         c++  should i use nested classes in this case pi am...\n",
              "2            650          c#  automatically update version number pi would l...\n",
              "3            930          c#  how do i connect to a database and loop over a...\n",
              "4           1010          c#  how to get the value of built encoded viewstat...\n",
              "...          ...         ...                                                ...\n",
              "826734  40143150  javascript  youtube iframe api no ready call no error call...\n",
              "826735  40143190      python  how to execute multiline python code from a ba...\n",
              "826736  40143210         php  url routing in php mvc pi am building a custom...\n",
              "826737  40143340     android  obfuscating code in android studio punder mini...\n",
              "826738  40143360  javascript  how to fire function after vmodel change pi ha...\n",
              "\n",
              "[826739 rows x 3 columns]"
            ]
          },
          "metadata": {
            "tags": []
          },
          "execution_count": 46
        }
      ]
    },
    {
      "cell_type": "code",
      "metadata": {
        "colab": {
          "base_uri": "https://localhost:8080/"
        },
        "id": "YXsW7vEwpTsZ",
        "outputId": "9007cde1-75d0-451a-b2dd-34b7e25c22bc"
      },
      "source": [
        "a = questions_data_top_10['Text']\n",
        "max_len = 0\n",
        "for d in a:\n",
        "    max_len = len(d) if len(d) > max_len else max_len\n",
        "print(max_len)\n"
      ],
      "execution_count": 47,
      "outputs": [
        {
          "output_type": "stream",
          "text": [
            "24922\n"
          ],
          "name": "stdout"
        }
      ]
    },
    {
      "cell_type": "code",
      "metadata": {
        "id": "Itu7jiPx7boW",
        "colab": {
          "base_uri": "https://localhost:8080/",
          "height": 52
        },
        "outputId": "07b82cdc-c187-4712-d5bf-2b3d537c226e"
      },
      "source": [
        "from keras.preprocessing.text import Tokenizer\n",
        "from keras.preprocessing.sequence import pad_sequences\n",
        "from sklearn.preprocessing import MultiLabelBinarizer\n",
        "\"\"\" it is required for data with multiple labels it increases the number of samples and reduces the number of classes (based on my perpective ehen used). \"\"\"\n",
        "\n"
      ],
      "execution_count": 49,
      "outputs": [
        {
          "output_type": "execute_result",
          "data": {
            "application/vnd.google.colaboratory.intrinsic+json": {
              "type": "string"
            },
            "text/plain": [
              "' it is required for data with multiple labels it increases the number of samples and reduces the number of classes (based on my perpective ehen used). '"
            ]
          },
          "metadata": {
            "tags": []
          },
          "execution_count": 49
        }
      ]
    },
    {
      "cell_type": "code",
      "metadata": {
        "id": "v75WulD8_moi",
        "colab": {
          "base_uri": "https://localhost:8080/"
        },
        "outputId": "a1246849-b0d2-4348-ac5c-d555a3fe1879"
      },
      "source": [
        "# Labek Creation\n",
        "multiLable_binarizer = MultiLabelBinarizer()\n",
        "multiLable_binarizer.fit([questions_data_top_10.Tag])"
      ],
      "execution_count": 50,
      "outputs": [
        {
          "output_type": "execute_result",
          "data": {
            "text/plain": [
              "MultiLabelBinarizer(classes=None, sparse_output=False)"
            ]
          },
          "metadata": {
            "tags": []
          },
          "execution_count": 50
        }
      ]
    },
    {
      "cell_type": "code",
      "metadata": {
        "id": "8VIJBx0T_01M"
      },
      "source": [
        "tf = multiLable_binarizer.transform(questions_data_top_10.Tag)"
      ],
      "execution_count": 51,
      "outputs": []
    },
    {
      "cell_type": "code",
      "metadata": {
        "id": "Ss-KX5-nnhFX"
      },
      "source": [
        ""
      ],
      "execution_count": 51,
      "outputs": []
    },
    {
      "cell_type": "code",
      "metadata": {
        "id": "0Hr_xgR0AKoF",
        "colab": {
          "base_uri": "https://localhost:8080/"
        },
        "outputId": "1084626b-7494-4a21-db79-69416a550b36"
      },
      "source": [
        "tf"
      ],
      "execution_count": 52,
      "outputs": [
        {
          "output_type": "execute_result",
          "data": {
            "text/plain": [
              "array([[0, 0, 0, ..., 0, 0, 0],\n",
              "       [0, 0, 0, ..., 0, 0, 0],\n",
              "       [0, 0, 0, ..., 0, 0, 0],\n",
              "       ...,\n",
              "       [0, 0, 0, ..., 0, 0, 0],\n",
              "       [0, 0, 0, ..., 0, 0, 0],\n",
              "       [0, 0, 0, ..., 0, 0, 0]])"
            ]
          },
          "metadata": {
            "tags": []
          },
          "execution_count": 52
        }
      ]
    },
    {
      "cell_type": "code",
      "metadata": {
        "id": "If6gUYGCAPhY"
      },
      "source": [
        "labels = multiLable_binarizer.classes_\n",
        "# labels"
      ],
      "execution_count": 53,
      "outputs": []
    },
    {
      "cell_type": "code",
      "metadata": {
        "id": "T3yX7EMsAqyn"
      },
      "source": [
        "y = pd.get_dummies(questions_data_top_10.Tag).to_numpy()"
      ],
      "execution_count": 54,
      "outputs": []
    },
    {
      "cell_type": "code",
      "metadata": {
        "id": "vA7EzZPvBIo6",
        "colab": {
          "base_uri": "https://localhost:8080/"
        },
        "outputId": "9aeeb9b6-2e02-45d1-b776-9ce9348d9497"
      },
      "source": [
        "y.shape"
      ],
      "execution_count": 55,
      "outputs": [
        {
          "output_type": "execute_result",
          "data": {
            "text/plain": [
              "(826739, 10)"
            ]
          },
          "metadata": {
            "tags": []
          },
          "execution_count": 55
        }
      ]
    },
    {
      "cell_type": "code",
      "metadata": {
        "id": "Zvl0XnfcBOUu",
        "colab": {
          "base_uri": "https://localhost:8080/"
        },
        "outputId": "272eb7a4-b8ed-45cf-dab2-e28f905a6f99"
      },
      "source": [
        "y"
      ],
      "execution_count": 56,
      "outputs": [
        {
          "output_type": "execute_result",
          "data": {
            "text/plain": [
              "array([[0, 1, 0, ..., 0, 0, 0],\n",
              "       [0, 0, 1, ..., 0, 0, 0],\n",
              "       [0, 1, 0, ..., 0, 0, 0],\n",
              "       ...,\n",
              "       [0, 0, 0, ..., 0, 1, 0],\n",
              "       [1, 0, 0, ..., 0, 0, 0],\n",
              "       [0, 0, 0, ..., 0, 0, 0]], dtype=uint8)"
            ]
          },
          "metadata": {
            "tags": []
          },
          "execution_count": 56
        }
      ]
    },
    {
      "cell_type": "code",
      "metadata": {
        "id": "Kf2rd5KkBYpc"
      },
      "source": [
        "#tokenization\n",
        "max_len = 300\n",
        "max_words = 50000\n",
        "# all input documents must have the same length we will limit the maximum revie length to max_words \n",
        "\n",
        "tokenizer = Tokenizer(num_words=max_words, lower=True)\n",
        "tokenizer.fit_on_texts(questions_data_top_10.Text)"
      ],
      "execution_count": 57,
      "outputs": []
    },
    {
      "cell_type": "code",
      "metadata": {
        "id": "IU7P0z2oHEpL"
      },
      "source": [
        "def get_features(text_series):\n",
        "\n",
        "  # transforms text data to feature_vectors taht can be used in the model\n",
        "  # tokenizer must be available.\n",
        "\n",
        "  sequences = tokenizer.texts_to_sequences(text_series)\n",
        "  return pad_sequences(sequences, maxlen=max_len)\n",
        "\n",
        "def prifiction_to_label(prediction):\n",
        "  tag_prob = [(labels[i], prob) for i, prob in enumerate(prediction.tolist())]\n",
        "  return dict(sorted(tag_prob, key=lambda kv:kv[1], reverse=True))\n",
        "\n"
      ],
      "execution_count": 58,
      "outputs": []
    },
    {
      "cell_type": "code",
      "metadata": {
        "id": "XxtpUDdBJf2s"
      },
      "source": [
        "from sklearn.model_selection import train_test_split\n",
        "\n",
        "x = get_features(questions_data_top_10.Text)"
      ],
      "execution_count": 59,
      "outputs": []
    },
    {
      "cell_type": "code",
      "metadata": {
        "id": "otCKN8evTcrh",
        "colab": {
          "base_uri": "https://localhost:8080/"
        },
        "outputId": "02dde04d-9d12-4cd7-d319-ddd36ab6ab14"
      },
      "source": [
        "x.shape, y.shape"
      ],
      "execution_count": 60,
      "outputs": [
        {
          "output_type": "execute_result",
          "data": {
            "text/plain": [
              "((826739, 300), (826739, 10))"
            ]
          },
          "metadata": {
            "tags": []
          },
          "execution_count": 60
        }
      ]
    },
    {
      "cell_type": "code",
      "metadata": {
        "id": "iUJ6ClEQzNSt"
      },
      "source": [
        ""
      ],
      "execution_count": 62,
      "outputs": []
    },
    {
      "cell_type": "code",
      "metadata": {
        "id": "_R6XBbqNTpjT"
      },
      "source": [
        "x_train, x_test, y_train, y_test = train_test_split(x, y, test_size=0.2, random_state=0 )"
      ],
      "execution_count": 63,
      "outputs": []
    },
    {
      "cell_type": "code",
      "metadata": {
        "id": "oqj50cONUKQn",
        "colab": {
          "base_uri": "https://localhost:8080/"
        },
        "outputId": "c7f619d3-1191-41f2-9e56-47df2eef3364"
      },
      "source": [
        "x_train.shape, x_test.shape, y_train.shape, y_test.shape"
      ],
      "execution_count": 64,
      "outputs": [
        {
          "output_type": "execute_result",
          "data": {
            "text/plain": [
              "((661391, 300), (165348, 300), (661391, 10), (165348, 10))"
            ]
          },
          "metadata": {
            "tags": []
          },
          "execution_count": 64
        }
      ]
    },
    {
      "cell_type": "code",
      "metadata": {
        "id": "A8Bnx1M6JvLC"
      },
      "source": [
        "from tensorflow.keras.layers import LSTM, Activation, Embedding, Dense, Dropout, Input\n",
        "from tensorflow.keras.models import Sequential\n",
        "from tensorflow.keras.layers import Flatten, GlobalMaxPool1D, Conv1D\n",
        "from tensorflow.keras.callbacks import ReduceLROnPlateau, EarlyStopping, ModelCheckpoint\n",
        "from tensorflow.keras.losses import binary_crossentropy\n",
        "from tensorflow.keras.models import Model\n"
      ],
      "execution_count": 65,
      "outputs": []
    },
    {
      "cell_type": "code",
      "metadata": {
        "id": "hCKXHwJULv58",
        "colab": {
          "base_uri": "https://localhost:8080/"
        },
        "outputId": "9ab9a804-4b09-4fab-8627-9109bc19f1b0"
      },
      "source": [
        "filter_lenght = 300\n",
        "model = Sequential()\n",
        "model.add(Embedding(max_words, 20, input_length=max_len))\n",
        "model.add(Dropout(0.1))\n",
        "model.add(Conv1D(filter_lenght,3, padding='valid', activation='relu', strides=1))\n",
        "model.add(GlobalMaxPool1D())\n",
        "model.add(Dense(num_classes))\n",
        "model.add(Activation('softmax'))\n",
        "\n",
        "model.compile(optimizer='adam', loss='binary_crossentropy', metrics=['categorical_accuracy'])\n",
        "model.summary()"
      ],
      "execution_count": 66,
      "outputs": [
        {
          "output_type": "stream",
          "text": [
            "Model: \"sequential\"\n",
            "_________________________________________________________________\n",
            "Layer (type)                 Output Shape              Param #   \n",
            "=================================================================\n",
            "embedding (Embedding)        (None, 300, 20)           1000000   \n",
            "_________________________________________________________________\n",
            "dropout (Dropout)            (None, 300, 20)           0         \n",
            "_________________________________________________________________\n",
            "conv1d (Conv1D)              (None, 298, 300)          18300     \n",
            "_________________________________________________________________\n",
            "global_max_pooling1d (Global (None, 300)               0         \n",
            "_________________________________________________________________\n",
            "dense (Dense)                (None, 10)                3010      \n",
            "_________________________________________________________________\n",
            "activation (Activation)      (None, 10)                0         \n",
            "=================================================================\n",
            "Total params: 1,021,310\n",
            "Trainable params: 1,021,310\n",
            "Non-trainable params: 0\n",
            "_________________________________________________________________\n"
          ],
          "name": "stdout"
        }
      ]
    },
    {
      "cell_type": "code",
      "metadata": {
        "id": "xMcCPiOQNA43",
        "colab": {
          "base_uri": "https://localhost:8080/"
        },
        "outputId": "f8556965-2269-4b5a-a14e-f4d8cb866bf3"
      },
      "source": [
        "history = model.fit(x_train, y_train, epochs=5, validation_split = 0.2)"
      ],
      "execution_count": 67,
      "outputs": [
        {
          "output_type": "stream",
          "text": [
            "Epoch 1/5\n",
            "16535/16535 [==============================] - 1082s 65ms/step - loss: 0.1161 - categorical_accuracy: 0.7472 - val_loss: 0.1036 - val_categorical_accuracy: 0.7726\n",
            "Epoch 2/5\n",
            "16535/16535 [==============================] - 1081s 65ms/step - loss: 0.1008 - categorical_accuracy: 0.7792 - val_loss: 0.1023 - val_categorical_accuracy: 0.7751\n",
            "Epoch 3/5\n",
            "16535/16535 [==============================] - 1079s 65ms/step - loss: 0.0967 - categorical_accuracy: 0.7869 - val_loss: 0.1048 - val_categorical_accuracy: 0.7659\n",
            "Epoch 4/5\n",
            "16535/16535 [==============================] - 1084s 66ms/step - loss: 0.0938 - categorical_accuracy: 0.7920 - val_loss: 0.1042 - val_categorical_accuracy: 0.7685\n",
            "Epoch 5/5\n",
            "16535/16535 [==============================] - 1083s 66ms/step - loss: 0.0914 - categorical_accuracy: 0.7973 - val_loss: 0.1077 - val_categorical_accuracy: 0.7547\n"
          ],
          "name": "stdout"
        }
      ]
    },
    {
      "cell_type": "code",
      "metadata": {
        "id": "oaFeMAY5SdRJ",
        "colab": {
          "base_uri": "https://localhost:8080/"
        },
        "outputId": "fd8048d3-38fc-4c58-903f-52d5c02d320e"
      },
      "source": [
        "y_pred = model.predict_classes(x_test)"
      ],
      "execution_count": 68,
      "outputs": [
        {
          "output_type": "stream",
          "text": [
            "WARNING:tensorflow:From <ipython-input-68-bae1a118294d>:1: Sequential.predict_classes (from tensorflow.python.keras.engine.sequential) is deprecated and will be removed after 2021-01-01.\n",
            "Instructions for updating:\n",
            "Please use instead:* `np.argmax(model.predict(x), axis=-1)`,   if your model does multi-class classification   (e.g. if it uses a `softmax` last-layer activation).* `(model.predict(x) > 0.5).astype(\"int32\")`,   if your model does binary classification   (e.g. if it uses a `sigmoid` last-layer activation).\n"
          ],
          "name": "stdout"
        }
      ]
    },
    {
      "cell_type": "code",
      "metadata": {
        "id": "E6lg3MRpSjeQ",
        "colab": {
          "base_uri": "https://localhost:8080/"
        },
        "outputId": "67218766-6606-4bd1-b407-0796c2fe2f52"
      },
      "source": [
        "y_pred"
      ],
      "execution_count": 69,
      "outputs": [
        {
          "output_type": "execute_result",
          "data": {
            "text/plain": [
              "array([3, 0, 1, ..., 9, 9, 0])"
            ]
          },
          "metadata": {
            "tags": []
          },
          "execution_count": 69
        }
      ]
    },
    {
      "cell_type": "code",
      "metadata": {
        "id": "0XDQVdVUSlV5",
        "colab": {
          "base_uri": "https://localhost:8080/"
        },
        "outputId": "de75c885-d15d-45f2-b4e0-294b05f991db"
      },
      "source": [
        "model.evaluate(x_test, y_test)"
      ],
      "execution_count": 71,
      "outputs": [
        {
          "output_type": "stream",
          "text": [
            "5168/5168 [==============================] - 69s 13ms/step - loss: 0.1082 - categorical_accuracy: 0.7552\n"
          ],
          "name": "stdout"
        },
        {
          "output_type": "execute_result",
          "data": {
            "text/plain": [
              "[0.10816716402769089, 0.755189061164856]"
            ]
          },
          "metadata": {
            "tags": []
          },
          "execution_count": 71
        }
      ]
    },
    {
      "cell_type": "code",
      "metadata": {
        "id": "v_a89UReWIYo"
      },
      "source": [
        "import matplotlib.pyplot as plt"
      ],
      "execution_count": 75,
      "outputs": []
    },
    {
      "cell_type": "code",
      "metadata": {
        "id": "1iEdvx7NNY5n",
        "colab": {
          "base_uri": "https://localhost:8080/",
          "height": 545
        },
        "outputId": "d180d687-b7dc-496e-dd10-d14c6bdea8a6"
      },
      "source": [
        "# Plot results\n",
        "acc = history.history['categorical_accuracy']\n",
        "val_acc = history.history['val_categorical_accuracy']\n",
        "loss = history.history['loss']\n",
        "val_loss = history.history['val_loss']\n",
        "\n",
        "epochs = range(1, len(acc)+1)\n",
        "\n",
        "plt.plot(epochs, acc, 'g', label='Training accuracy')\n",
        "plt.plot(epochs, val_acc, 'r', label='Validation accuracy')\n",
        "plt.title('Training and validation accuracy')\n",
        "plt.legend()\n",
        "\n",
        "plt.figure()\n",
        "\n",
        "plt.plot(epochs, loss, 'g', label='Training loss')\n",
        "plt.plot(epochs, val_loss, 'r', label='Validation loss')\n",
        "plt.title('Training and validation loss')\n",
        "plt.legend()\n",
        "\n",
        "plt.show()"
      ],
      "execution_count": 76,
      "outputs": [
        {
          "output_type": "display_data",
          "data": {
            "image/png": "[encoded data removed]",
            "text/plain": [
              "<Figure size 432x288 with 1 Axes>"
            ]
          },
          "metadata": {
            "tags": [],
            "needs_background": "light"
          }
        },
        {
          "output_type": "display_data",
          "data": {
            "image/png": "[encoded data removed]",
            "text/plain": [
              "<Figure size 432x288 with 1 Axes>"
            ]
          },
          "metadata": {
            "tags": [],
            "needs_background": "light"
          }
        }
      ]
    },
    {
      "cell_type": "code",
      "metadata": {
        "id": "V7vXfcIyZvNr"
      },
      "source": [
        ""
      ],
      "execution_count": null,
      "outputs": []
    }
  ]
}